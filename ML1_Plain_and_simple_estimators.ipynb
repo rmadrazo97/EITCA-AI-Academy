{
  "nbformat": 4,
  "nbformat_minor": 0,
  "metadata": {
    "colab": {
      "provenance": [],
      "toc_visible": true,
      "authorship_tag": "ABX9TyNKK0YwFYPaQ4UvKIJeFD3i",
      "include_colab_link": true
    },
    "kernelspec": {
      "name": "python3",
      "display_name": "Python 3"
    },
    "language_info": {
      "name": "python"
    }
  },
  "cells": [
    {
      "cell_type": "markdown",
      "metadata": {
        "id": "view-in-github",
        "colab_type": "text"
      },
      "source": [
        "<a href=\"https://colab.research.google.com/github/rmadrazo97/EITCA-AI-Academy/blob/main/ML1_Plain_and_simple_estimators.ipynb\" target=\"_parent\"><img src=\"https://colab.research.google.com/assets/colab-badge.svg\" alt=\"Open In Colab\"/></a>"
      ]
    },
    {
      "cell_type": "code",
      "execution_count": null,
      "metadata": {
        "colab": {
          "base_uri": "https://localhost:8080/"
        },
        "id": "LxBrs9ICyCFk",
        "outputId": "60cc6e78-8b38-4a67-d1b1-39e95ffed432"
      },
      "outputs": [
        {
          "output_type": "stream",
          "name": "stdout",
          "text": [
            "2.15.0\n"
          ]
        }
      ],
      "source": [
        "import tensorflow as tf\n",
        "import numpy as np\n",
        "\n",
        "print(tf.__version__)"
      ]
    },
    {
      "cell_type": "code",
      "source": [
        "!pip install tensorflow-datasets"
      ],
      "metadata": {
        "colab": {
          "base_uri": "https://localhost:8080/"
        },
        "id": "2PvHa8vmygry",
        "outputId": "380e3cbf-01d9-4a6b-c874-2f5422f84481"
      },
      "execution_count": 29,
      "outputs": [
        {
          "output_type": "stream",
          "name": "stdout",
          "text": [
            "Requirement already satisfied: tensorflow-datasets in /usr/local/lib/python3.10/dist-packages (4.9.4)\n",
            "Requirement already satisfied: absl-py in /usr/local/lib/python3.10/dist-packages (from tensorflow-datasets) (1.4.0)\n",
            "Requirement already satisfied: click in /usr/local/lib/python3.10/dist-packages (from tensorflow-datasets) (8.1.7)\n",
            "Requirement already satisfied: dm-tree in /usr/local/lib/python3.10/dist-packages (from tensorflow-datasets) (0.1.8)\n",
            "Requirement already satisfied: etils[enp,epath,etree]>=0.9.0 in /usr/local/lib/python3.10/dist-packages (from tensorflow-datasets) (1.6.0)\n",
            "Requirement already satisfied: numpy in /usr/local/lib/python3.10/dist-packages (from tensorflow-datasets) (1.23.5)\n",
            "Requirement already satisfied: promise in /usr/local/lib/python3.10/dist-packages (from tensorflow-datasets) (2.3)\n",
            "Requirement already satisfied: protobuf>=3.20 in /usr/local/lib/python3.10/dist-packages (from tensorflow-datasets) (3.20.3)\n",
            "Requirement already satisfied: psutil in /usr/local/lib/python3.10/dist-packages (from tensorflow-datasets) (5.9.5)\n",
            "Requirement already satisfied: requests>=2.19.0 in /usr/local/lib/python3.10/dist-packages (from tensorflow-datasets) (2.31.0)\n",
            "Requirement already satisfied: tensorflow-metadata in /usr/local/lib/python3.10/dist-packages (from tensorflow-datasets) (1.14.0)\n",
            "Requirement already satisfied: termcolor in /usr/local/lib/python3.10/dist-packages (from tensorflow-datasets) (2.4.0)\n",
            "Requirement already satisfied: toml in /usr/local/lib/python3.10/dist-packages (from tensorflow-datasets) (0.10.2)\n",
            "Requirement already satisfied: tqdm in /usr/local/lib/python3.10/dist-packages (from tensorflow-datasets) (4.66.1)\n",
            "Requirement already satisfied: wrapt in /usr/local/lib/python3.10/dist-packages (from tensorflow-datasets) (1.14.1)\n",
            "Requirement already satisfied: array-record>=0.5.0 in /usr/local/lib/python3.10/dist-packages (from tensorflow-datasets) (0.5.0)\n",
            "Requirement already satisfied: fsspec in /usr/local/lib/python3.10/dist-packages (from etils[enp,epath,etree]>=0.9.0->tensorflow-datasets) (2023.6.0)\n",
            "Requirement already satisfied: importlib_resources in /usr/local/lib/python3.10/dist-packages (from etils[enp,epath,etree]>=0.9.0->tensorflow-datasets) (6.1.1)\n",
            "Requirement already satisfied: typing_extensions in /usr/local/lib/python3.10/dist-packages (from etils[enp,epath,etree]>=0.9.0->tensorflow-datasets) (4.5.0)\n",
            "Requirement already satisfied: zipp in /usr/local/lib/python3.10/dist-packages (from etils[enp,epath,etree]>=0.9.0->tensorflow-datasets) (3.17.0)\n",
            "Requirement already satisfied: charset-normalizer<4,>=2 in /usr/local/lib/python3.10/dist-packages (from requests>=2.19.0->tensorflow-datasets) (3.3.2)\n",
            "Requirement already satisfied: idna<4,>=2.5 in /usr/local/lib/python3.10/dist-packages (from requests>=2.19.0->tensorflow-datasets) (3.6)\n",
            "Requirement already satisfied: urllib3<3,>=1.21.1 in /usr/local/lib/python3.10/dist-packages (from requests>=2.19.0->tensorflow-datasets) (2.0.7)\n",
            "Requirement already satisfied: certifi>=2017.4.17 in /usr/local/lib/python3.10/dist-packages (from requests>=2.19.0->tensorflow-datasets) (2023.11.17)\n",
            "Requirement already satisfied: six in /usr/local/lib/python3.10/dist-packages (from promise->tensorflow-datasets) (1.16.0)\n",
            "Requirement already satisfied: googleapis-common-protos<2,>=1.52.0 in /usr/local/lib/python3.10/dist-packages (from tensorflow-metadata->tensorflow-datasets) (1.62.0)\n"
          ]
        }
      ]
    },
    {
      "cell_type": "code",
      "source": [
        "import tensorflow_datasets as tfds\n",
        "\n",
        "# Load the Iris dataset using TensorFlow Datasets.\n",
        "# This function returns the dataset and its metadata.\n",
        "iris, iris_info = tfds.load('iris', with_info=True, as_supervised=True)\n",
        "\n",
        "# Access the 'train' split of the dataset.\n",
        "# TensorFlow datasets are often split into 'train', 'test', etc.\n",
        "train_dataset = iris['train']\n",
        "\n",
        "# Shuffle and batch the training dataset.\n",
        "# Shuffling randomizes the order of examples, which is important for training.\n",
        "# Batching groups multiple examples into a single batch, which is important for training efficiency.\n",
        "train_dataset = train_dataset.shuffle(150).batch(32)\n",
        "\n",
        "# Prepare the test dataset.\n",
        "# Here, we take a portion of the training dataset to use as our test dataset.\n",
        "# We also batch it similarly to the training dataset.\n",
        "# Note: In a real-world scenario, you would typically have a separate 'test' split.\n",
        "test_dataset = iris['train'].batch(32).take(30)  # Adjust the test size as needed"
      ],
      "metadata": {
        "id": "hLc3IoqDzTzj"
      },
      "execution_count": 37,
      "outputs": []
    },
    {
      "cell_type": "code",
      "source": [
        "import tensorflow as tf\n",
        "\n",
        "# Define a simple Sequential neural network model\n",
        "model = tf.keras.Sequential([\n",
        "    # First Dense layer with 30 neurons and ReLU activation.\n",
        "    # 'input_shape' is set to 4, as the Iris dataset has 4 feature columns.\n",
        "    tf.keras.layers.Dense(30, activation='relu', input_shape=(4,)),\n",
        "\n",
        "    # Second Dense layer with 10 neurons and ReLU activation.\n",
        "    tf.keras.layers.Dense(10, activation='relu'),\n",
        "\n",
        "    # Output Dense layer with 3 neurons (one for each class in the Iris dataset).\n",
        "    # No activation function is specified here, as this will be a linear layer.\n",
        "    tf.keras.layers.Dense(3)\n",
        "])\n",
        "\n",
        "# Compile the model\n",
        "# 'adam' optimizer is used for gradient descent.\n",
        "# 'SparseCategoricalCrossentropy' loss is used as this is a multi-class classification problem.\n",
        "# 'accuracy' is used as a metric to monitor the performance of the model.\n",
        "model.compile(optimizer='adam',\n",
        "              loss=tf.keras.losses.SparseCategoricalCrossentropy(from_logits=True),\n",
        "              metrics=['accuracy'])\n",
        "\n",
        "# Train the model on the training dataset.\n",
        "# 'epochs' specifies how many times the entire dataset is passed through the network.\n",
        "model.fit(train_dataset, epochs=20)  # Adjust the number of epochs as needed"
      ],
      "metadata": {
        "colab": {
          "base_uri": "https://localhost:8080/"
        },
        "id": "29tRMlA5R2eE",
        "outputId": "d73d1526-5964-41bc-b652-82dbdd5c57b1"
      },
      "execution_count": 38,
      "outputs": [
        {
          "output_type": "stream",
          "name": "stdout",
          "text": [
            "Epoch 1/20\n",
            "5/5 [==============================] - 1s 4ms/step - loss: 1.4662 - accuracy: 0.3333\n",
            "Epoch 2/20\n",
            "5/5 [==============================] - 0s 4ms/step - loss: 1.3318 - accuracy: 0.3333\n",
            "Epoch 3/20\n",
            "5/5 [==============================] - 0s 6ms/step - loss: 1.2271 - accuracy: 0.3533\n",
            "Epoch 4/20\n",
            "5/5 [==============================] - 0s 4ms/step - loss: 1.1155 - accuracy: 0.4267\n",
            "Epoch 5/20\n",
            "5/5 [==============================] - 0s 3ms/step - loss: 1.0197 - accuracy: 0.4400\n",
            "Epoch 6/20\n",
            "5/5 [==============================] - 0s 4ms/step - loss: 0.9448 - accuracy: 0.4733\n",
            "Epoch 7/20\n",
            "5/5 [==============================] - 0s 3ms/step - loss: 0.8793 - accuracy: 0.5333\n",
            "Epoch 8/20\n",
            "5/5 [==============================] - 0s 4ms/step - loss: 0.8254 - accuracy: 0.5733\n",
            "Epoch 9/20\n",
            "5/5 [==============================] - 0s 4ms/step - loss: 0.7726 - accuracy: 0.6933\n",
            "Epoch 10/20\n",
            "5/5 [==============================] - 0s 4ms/step - loss: 0.7281 - accuracy: 0.9200\n",
            "Epoch 11/20\n",
            "5/5 [==============================] - 0s 4ms/step - loss: 0.6923 - accuracy: 0.9467\n",
            "Epoch 12/20\n",
            "5/5 [==============================] - 0s 4ms/step - loss: 0.6572 - accuracy: 0.9533\n",
            "Epoch 13/20\n",
            "5/5 [==============================] - 0s 3ms/step - loss: 0.6248 - accuracy: 0.9267\n",
            "Epoch 14/20\n",
            "5/5 [==============================] - 0s 4ms/step - loss: 0.5934 - accuracy: 0.9333\n",
            "Epoch 15/20\n",
            "5/5 [==============================] - 0s 4ms/step - loss: 0.5702 - accuracy: 0.9467\n",
            "Epoch 16/20\n",
            "5/5 [==============================] - 0s 4ms/step - loss: 0.5439 - accuracy: 0.9667\n",
            "Epoch 17/20\n",
            "5/5 [==============================] - 0s 4ms/step - loss: 0.5202 - accuracy: 0.9533\n",
            "Epoch 18/20\n",
            "5/5 [==============================] - 0s 4ms/step - loss: 0.4984 - accuracy: 0.9267\n",
            "Epoch 19/20\n",
            "5/5 [==============================] - 0s 4ms/step - loss: 0.4779 - accuracy: 0.9533\n",
            "Epoch 20/20\n",
            "5/5 [==============================] - 0s 5ms/step - loss: 0.4586 - accuracy: 0.9667\n"
          ]
        },
        {
          "output_type": "execute_result",
          "data": {
            "text/plain": [
              "<keras.src.callbacks.History at 0x792152c7bbe0>"
            ]
          },
          "metadata": {},
          "execution_count": 38
        }
      ]
    },
    {
      "cell_type": "code",
      "source": [
        "# Evaluate the model's performance on the test dataset.\n",
        "# This will provide the loss value and accuracy of the model on the test data.\n",
        "test_loss, test_accuracy = model.evaluate(test_dataset)\n",
        "print('\\nTest accuracy:', test_accuracy)"
      ],
      "metadata": {
        "colab": {
          "base_uri": "https://localhost:8080/"
        },
        "id": "ygZN9yZ-VX_l",
        "outputId": "08e7a203-d00e-488d-a55b-7f8df5f67c8d"
      },
      "execution_count": 39,
      "outputs": [
        {
          "output_type": "stream",
          "name": "stdout",
          "text": [
            "5/5 [==============================] - 0s 3ms/step - loss: 0.4475 - accuracy: 0.9667\n",
            "\n",
            "Test accuracy: 0.9666666388511658\n"
          ]
        }
      ]
    },
    {
      "cell_type": "code",
      "source": [
        "# Save the entire model in the Keras format\n",
        "model.save('my_iris_model.keras')"
      ],
      "metadata": {
        "id": "AWtRVPd6XDL2"
      },
      "execution_count": 41,
      "outputs": []
    }
  ]
}